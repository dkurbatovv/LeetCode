{
  "nbformat": 4,
  "nbformat_minor": 0,
  "metadata": {
    "colab": {
      "name": "17 Letter Combinations of a Phone Number.ipynb",
      "provenance": [],
      "collapsed_sections": [],
      "authorship_tag": "ABX9TyM8i/o95DdIqA0scRgbGZfR",
      "include_colab_link": true
    },
    "kernelspec": {
      "name": "python3",
      "display_name": "Python 3"
    },
    "language_info": {
      "name": "python"
    }
  },
  "cells": [
    {
      "cell_type": "markdown",
      "metadata": {
        "id": "view-in-github",
        "colab_type": "text"
      },
      "source": [
        "<a href=\"https://colab.research.google.com/github/dkurbatovv/LeetCode/blob/main/17_Letter_Combinations_of_a_Phone_Number.ipynb\" target=\"_parent\"><img src=\"https://colab.research.google.com/assets/colab-badge.svg\" alt=\"Open In Colab\"/></a>"
      ]
    },
    {
      "cell_type": "code",
      "execution_count": 106,
      "metadata": {
        "colab": {
          "base_uri": "https://localhost:8080/"
        },
        "id": "z6hYGZ06XzNz",
        "outputId": "c0ffd30e-9e34-4d4e-9dcb-a0f65bedd0b7"
      },
      "outputs": [
        {
          "output_type": "stream",
          "name": "stdout",
          "text": [
            "['a', 'b', 'c']\n",
            "['ad', 'ae', 'af', 'bd', 'be', 'bf', 'cd', 'ce', 'cf']\n"
          ]
        },
        {
          "output_type": "execute_result",
          "data": {
            "text/plain": [
              "['ad', 'ae', 'af', 'bd', 'be', 'bf', 'cd', 'ce', 'cf']"
            ]
          },
          "metadata": {},
          "execution_count": 106
        }
      ],
      "source": [
        "class Solution:\n",
        "    def letterCombinations(self, digits):\n",
        "        \n",
        "        self.dic=['','1','abc','def','ghi','jkl','mno','pqrs','tuv','wxyz']\n",
        "        \n",
        "        if len(digits) == 0:\n",
        "            return []\n",
        "            \n",
        "        res = ['']\n",
        "        for digit in digits:\n",
        "            res = self.Combinations(int(digit), res)\n",
        "            print(res)\n",
        "        return res\n",
        "            \n",
        "    def Combinations(self, digit, res):\n",
        "        return [i+j for i in res for j in self.dic[digit]]\n",
        "\n",
        "\n",
        "\n",
        "obj = Solution()\n",
        "obj.letterCombinations('23')"
      ]
    },
    {
      "cell_type": "code",
      "source": [
        ""
      ],
      "metadata": {
        "id": "MnxkUs2OjmDT"
      },
      "execution_count": null,
      "outputs": []
    }
  ]
}