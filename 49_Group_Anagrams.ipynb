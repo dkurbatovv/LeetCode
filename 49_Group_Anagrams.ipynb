{
  "nbformat": 4,
  "nbformat_minor": 0,
  "metadata": {
    "colab": {
      "name": "49_Group_Anagrams.ipynb",
      "provenance": [],
      "authorship_tag": "ABX9TyPgtiIdddRv9GOSEKdFvPJL",
      "include_colab_link": true
    },
    "kernelspec": {
      "name": "python3",
      "display_name": "Python 3"
    },
    "language_info": {
      "name": "python"
    }
  },
  "cells": [
    {
      "cell_type": "markdown",
      "metadata": {
        "id": "view-in-github",
        "colab_type": "text"
      },
      "source": [
        "<a href=\"https://colab.research.google.com/github/dkurbatovv/LeetCode/blob/main/49_Group_Anagrams.ipynb\" target=\"_parent\"><img src=\"https://colab.research.google.com/assets/colab-badge.svg\" alt=\"Open In Colab\"/></a>"
      ]
    },
    {
      "cell_type": "code",
      "execution_count": 15,
      "metadata": {
        "id": "ihgnvkM0Luww"
      },
      "outputs": [],
      "source": [
        "class Solution(object):\n",
        "    def groupAnagrams(self, strs):\n",
        "\n",
        "      res = {}\n",
        "      for item in strs:\n",
        "        k = ''.join(sorted(item))  # делаем сортировку по символам\n",
        "        if k not in res:  # смотрим есть ли сортированное слово с списке\n",
        "            res[k] = []\n",
        "        res[k].append(item)  # если нет, то добавляем ее в список, как слово которое получили мы на вход, не сортированное!!!\n",
        "        #print(res[k])\n",
        "      return [res[x] for x in res]  # Output\n",
        "\n"
      ]
    },
    {
      "cell_type": "code",
      "source": [
        "obj = Solution()\n",
        "obj.groupAnagrams([\"eat\",\"tea\",\"tan\",\"ate\",\"nat\",\"bat\"])"
      ],
      "metadata": {
        "colab": {
          "base_uri": "https://localhost:8080/"
        },
        "id": "M1oQaP7OLyre",
        "outputId": "bdbcdef4-404d-434b-b9d4-1a872d832f81"
      },
      "execution_count": 16,
      "outputs": [
        {
          "output_type": "stream",
          "name": "stdout",
          "text": [
            "['eat']\n",
            "['eat', 'tea']\n",
            "['tan']\n",
            "['eat', 'tea', 'ate']\n",
            "['tan', 'nat']\n",
            "['bat']\n"
          ]
        },
        {
          "output_type": "execute_result",
          "data": {
            "text/plain": [
              "[['eat', 'tea', 'ate'], ['tan', 'nat'], ['bat']]"
            ]
          },
          "metadata": {},
          "execution_count": 16
        }
      ]
    },
    {
      "cell_type": "code",
      "source": [
        ""
      ],
      "metadata": {
        "id": "caKJu3RIL2go"
      },
      "execution_count": null,
      "outputs": []
    }
  ]
}