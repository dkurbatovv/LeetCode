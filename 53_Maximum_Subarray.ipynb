{
  "nbformat": 4,
  "nbformat_minor": 0,
  "metadata": {
    "colab": {
      "name": "53_Maximum_Subarray.ipynb",
      "provenance": [],
      "authorship_tag": "ABX9TyOPQWvY81aWJzxmY4hRXDFo",
      "include_colab_link": true
    },
    "kernelspec": {
      "name": "python3",
      "display_name": "Python 3"
    },
    "language_info": {
      "name": "python"
    }
  },
  "cells": [
    {
      "cell_type": "markdown",
      "metadata": {
        "id": "view-in-github",
        "colab_type": "text"
      },
      "source": [
        "<a href=\"https://colab.research.google.com/github/dkurbatovv/LeetCode/blob/main/53_Maximum_Subarray.ipynb\" target=\"_parent\"><img src=\"https://colab.research.google.com/assets/colab-badge.svg\" alt=\"Open In Colab\"/></a>"
      ]
    },
    {
      "cell_type": "code",
      "execution_count": 52,
      "metadata": {
        "colab": {
          "base_uri": "https://localhost:8080/"
        },
        "id": "g3tEksJn8tPu",
        "outputId": "191a1cb8-ba8d-4ef6-a462-d53b49c16ba2"
      },
      "outputs": [
        {
          "output_type": "execute_result",
          "data": {
            "text/plain": [
              "6"
            ]
          },
          "metadata": {},
          "execution_count": 52
        }
      ],
      "source": [
        "class Solution(object):\n",
        "    def maxSubArray(self, nums):\n",
        "        new_mass = []\n",
        "        sum = 0\n",
        "        for i in range(len(nums)):\n",
        "          for j in range(len(nums), i, -1):\n",
        "            mass = nums[i:j]\n",
        "            count = 0\n",
        "            for num in mass:           \n",
        "              count = count + num\n",
        "            if count > sum:\n",
        "              sum = count  \n",
        "              new_mass = mass\n",
        "        return sum\n",
        "\n",
        "\n",
        "obj = Solution()\n",
        "obj.maxSubArray([-2,1,-3,4,-1,2,1,-5,4])                "
      ]
    },
    {
      "cell_type": "code",
      "source": [
        ""
      ],
      "metadata": {
        "id": "mOUg61NM8vz-"
      },
      "execution_count": 31,
      "outputs": []
    }
  ]
}