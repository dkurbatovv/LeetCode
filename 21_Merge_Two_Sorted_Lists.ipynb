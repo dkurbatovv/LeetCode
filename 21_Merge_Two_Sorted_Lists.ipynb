{
  "nbformat": 4,
  "nbformat_minor": 0,
  "metadata": {
    "colab": {
      "name": "21_Merge_Two_Sorted_Lists.ipynb",
      "private_outputs": true,
      "provenance": [],
      "authorship_tag": "ABX9TyOdOV7zO1MjyRpZ8HqL7pDS",
      "include_colab_link": true
    },
    "kernelspec": {
      "name": "python3",
      "display_name": "Python 3"
    },
    "language_info": {
      "name": "python"
    }
  },
  "cells": [
    {
      "cell_type": "markdown",
      "metadata": {
        "id": "view-in-github",
        "colab_type": "text"
      },
      "source": [
        "<a href=\"https://colab.research.google.com/github/dkurbatovv/LeetCode/blob/main/21_Merge_Two_Sorted_Lists.ipynb\" target=\"_parent\"><img src=\"https://colab.research.google.com/assets/colab-badge.svg\" alt=\"Open In Colab\"/></a>"
      ]
    },
    {
      "cell_type": "code",
      "execution_count": null,
      "metadata": {
        "id": "ckBhOSARJkv1"
      },
      "outputs": [],
      "source": [
        "class Solution(object):\n",
        "    def mergeTwoLists(self, list1, list2):\n",
        "      return str(sorted(list1 + list2))\n",
        "\n",
        "\n",
        "obj = Solution()\n",
        "obj.mergeTwoLists([1,2,4], [1,3,4])"
      ]
    },
    {
      "cell_type": "code",
      "source": [
        "class ListNode(object):\n",
        "    def __init__(self, val=0, next=None):\n",
        "        self.val = val\n",
        "        self.next = next\n",
        "class Solution(object):\n",
        "    def mergeTwoLists(self, list1, list2):\n",
        "        dummy = ListNode()\n",
        "        tail = dummy\n",
        "        print(dummy)\n",
        "        while list1 and list2:\n",
        "          if list1.val < list2.val:\n",
        "            tail.next = list1\n",
        "            list1 = list1.next\n",
        "          else:\n",
        "            tail.next = list2\n",
        "            list2 = list2.next\n",
        "\n",
        "          tail = tail.next\n",
        "        if list1:\n",
        "          tail.next = list1\n",
        "        elif list2:\n",
        "          tail.next = list2\n",
        "\n",
        "        return dummy.next\n",
        "    \n"
      ],
      "metadata": {
        "id": "vGzAvjS9ZgDl"
      },
      "execution_count": null,
      "outputs": []
    }
  ]
}