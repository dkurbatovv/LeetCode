{
  "nbformat": 4,
  "nbformat_minor": 0,
  "metadata": {
    "colab": {
      "name": "05_Longest_Palindromic_Substring.ipynb",
      "provenance": [],
      "authorship_tag": "ABX9TyMRXDGO2fd+VQhe3X0Romj7",
      "include_colab_link": true
    },
    "kernelspec": {
      "name": "python3",
      "display_name": "Python 3"
    },
    "language_info": {
      "name": "python"
    }
  },
  "cells": [
    {
      "cell_type": "markdown",
      "metadata": {
        "id": "view-in-github",
        "colab_type": "text"
      },
      "source": [
        "<a href=\"https://colab.research.google.com/github/dkurbatovv/LeetCode/blob/main/05_Longest_Palindromic_Substring.ipynb\" target=\"_parent\"><img src=\"https://colab.research.google.com/assets/colab-badge.svg\" alt=\"Open In Colab\"/></a>"
      ]
    },
    {
      "cell_type": "code",
      "execution_count": 40,
      "metadata": {
        "colab": {
          "base_uri": "https://localhost:8080/",
          "height": 174
        },
        "id": "g3tEksJn8tPu",
        "outputId": "ff05abee-786e-4a99-8ac7-0dfc6eef3d49"
      },
      "outputs": [
        {
          "output_type": "stream",
          "name": "stdout",
          "text": [
            "babad\n",
            "baba\n",
            "bab\n",
            "abad\n",
            "aba\n",
            "bad\n",
            "ad\n",
            "d\n"
          ]
        },
        {
          "output_type": "execute_result",
          "data": {
            "text/plain": [
              "'bab'"
            ],
            "application/vnd.google.colaboratory.intrinsic+json": {
              "type": "string"
            }
          },
          "metadata": {},
          "execution_count": 40
        }
      ],
      "source": [
        "class Solution(object):\n",
        "    def longestPalindrome(self, s):\n",
        "      palindrome = ''\n",
        "\n",
        "      # проходим по строке с самого начала\n",
        "      for i in range(len(s)):\n",
        "\n",
        "          # обратный цикл по входной строке\n",
        "          for j in range(len(s), i, -1):\n",
        "              print(s[i:j])\n",
        "              # прерываем если вне диапазона\n",
        "              if len(palindrome) >= j-i:\n",
        "                  break\n",
        "\n",
        "              # если совпадает то записываем как палиндром\n",
        "              elif s[i:j] == s[i:j][::-1]:\n",
        "                  palindrome = s[i:j]\n",
        "                  break\n",
        "\n",
        "      return palindrome\n",
        "\n",
        "\n",
        "\n",
        "\n",
        "        \n",
        "obj = Solution()\n",
        "obj.longestPalindrome('babad')              "
      ]
    },
    {
      "cell_type": "code",
      "source": [
        ""
      ],
      "metadata": {
        "id": "mOUg61NM8vz-"
      },
      "execution_count": 31,
      "outputs": []
    }
  ]
}