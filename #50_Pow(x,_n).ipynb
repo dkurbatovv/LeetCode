{
  "nbformat": 4,
  "nbformat_minor": 0,
  "metadata": {
    "colab": {
      "name": "Pow(x, n).ipynb",
      "provenance": [],
      "authorship_tag": "ABX9TyPNHwm9hsL0h4WJauwS4AWg",
      "include_colab_link": true
    },
    "kernelspec": {
      "name": "python3",
      "display_name": "Python 3"
    },
    "language_info": {
      "name": "python"
    }
  },
  "cells": [
    {
      "cell_type": "markdown",
      "metadata": {
        "id": "view-in-github",
        "colab_type": "text"
      },
      "source": [
        "<a href=\"https://colab.research.google.com/github/dkurbatovv/LeetCode/blob/main/%2350_Pow(x%2C_n).ipynb\" target=\"_parent\"><img src=\"https://colab.research.google.com/assets/colab-badge.svg\" alt=\"Open In Colab\"/></a>"
      ]
    },
    {
      "cell_type": "code",
      "execution_count": 5,
      "metadata": {
        "id": "ihgnvkM0Luww"
      },
      "outputs": [],
      "source": [
        "class Solution(object):\n",
        "    def myPow(self, x, n):\n",
        "        \n",
        "        res = 1\n",
        "        \n",
        "        if n > 0:\n",
        "            while n > 0:\n",
        "                res = res * x\n",
        "                n = n - 1\n",
        "            return res    \n",
        "        else:\n",
        "            while n < 0:\n",
        "                res = res * (1 / x)\n",
        "                n = n + 1\n",
        "            return res    \n",
        "                \n"
      ]
    },
    {
      "cell_type": "code",
      "source": [
        "obj = Solution()\n",
        "obj.myPow(2,-2)"
      ],
      "metadata": {
        "colab": {
          "base_uri": "https://localhost:8080/"
        },
        "id": "M1oQaP7OLyre",
        "outputId": "99b2f6e8-2117-4bc1-ee01-8a3c99b015c5"
      },
      "execution_count": 7,
      "outputs": [
        {
          "output_type": "execute_result",
          "data": {
            "text/plain": [
              "0.25"
            ]
          },
          "metadata": {},
          "execution_count": 7
        }
      ]
    },
    {
      "cell_type": "code",
      "source": [
        ""
      ],
      "metadata": {
        "id": "caKJu3RIL2go"
      },
      "execution_count": null,
      "outputs": []
    }
  ]
}