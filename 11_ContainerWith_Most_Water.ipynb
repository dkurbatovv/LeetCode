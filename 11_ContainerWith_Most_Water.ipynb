{
  "nbformat": 4,
  "nbformat_minor": 0,
  "metadata": {
    "colab": {
      "name": "11 ContainerWith Most Water.ipynb",
      "provenance": [],
      "authorship_tag": "ABX9TyOCqR8BmC5fE45Gmanf2NZR",
      "include_colab_link": true
    },
    "kernelspec": {
      "name": "python3",
      "display_name": "Python 3"
    },
    "language_info": {
      "name": "python"
    }
  },
  "cells": [
    {
      "cell_type": "markdown",
      "metadata": {
        "id": "view-in-github",
        "colab_type": "text"
      },
      "source": [
        "<a href=\"https://colab.research.google.com/github/dkurbatovv/LeetCode/blob/main/11_ContainerWith_Most_Water.ipynb\" target=\"_parent\"><img src=\"https://colab.research.google.com/assets/colab-badge.svg\" alt=\"Open In Colab\"/></a>"
      ]
    },
    {
      "cell_type": "code",
      "execution_count": 18,
      "metadata": {
        "colab": {
          "base_uri": "https://localhost:8080/"
        },
        "id": "z6hYGZ06XzNz",
        "outputId": "f8c8609c-6642-4ea1-ba67-792e3181869e"
      },
      "outputs": [
        {
          "output_type": "stream",
          "name": "stdout",
          "text": [
            "49\n"
          ]
        }
      ],
      "source": [
        "class Solution(object):\n",
        "    def maxArea(self, height):\n",
        "        mass = height\n",
        "        interval = 0\n",
        "        for i in range(0, len(height), 1):\n",
        "          for j in range(0, len(height), 1):\n",
        "            if height[j] > height[i]:\n",
        "              res = height[i] * abs(j - i)\n",
        "            else:\n",
        "              res = height[j] * abs(j - i)\n",
        "            if res > interval:\n",
        "              interval = res\n",
        "        print(interval)\n",
        "\n",
        "obj = Solution()\n",
        "obj.maxArea([1,8,6,2,5,4,8,3,7])        "
      ]
    }
  ]
}