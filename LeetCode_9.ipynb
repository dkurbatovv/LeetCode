{
  "nbformat": 4,
  "nbformat_minor": 0,
  "metadata": {
    "colab": {
      "name": "LeetCode #9.ipynb",
      "private_outputs": true,
      "provenance": [],
      "authorship_tag": "ABX9TyPX99aJBxyIFs9g82++DjvY",
      "include_colab_link": true
    },
    "kernelspec": {
      "name": "python3",
      "display_name": "Python 3"
    },
    "language_info": {
      "name": "python"
    }
  },
  "cells": [
    {
      "cell_type": "markdown",
      "metadata": {
        "id": "view-in-github",
        "colab_type": "text"
      },
      "source": [
        "<a href=\"https://colab.research.google.com/github/dkurbatovv/LeetCode/blob/main/LeetCode_9.ipynb\" target=\"_parent\"><img src=\"https://colab.research.google.com/assets/colab-badge.svg\" alt=\"Open In Colab\"/></a>"
      ]
    },
    {
      "cell_type": "code",
      "execution_count": null,
      "metadata": {
        "id": "HtyDCe4MEVdf"
      },
      "outputs": [],
      "source": [
        "x = 129\n",
        "mass = []\n",
        "\n",
        "\n",
        "a = x % 10\n",
        "mass.append(a)\n",
        "\n",
        "x = x // 10\n",
        "\n",
        "x\n"
      ]
    },
    {
      "cell_type": "code",
      "source": [
        "x = 12332\n",
        "k = x\n",
        "mass = []\n",
        "while x > 0:\n",
        "  a = x % 10\n",
        "  mass.append(a)\n",
        "\n",
        "  x = x // 10\n",
        "\n",
        "li = int(''.join(map(str, mass)))\n",
        "if li == k:\n",
        "  print('True')\n",
        "else:\n",
        "  print('False')  \n",
        "\n",
        "\n",
        "print(li)"
      ],
      "metadata": {
        "id": "KqeMaMcAEY6_"
      },
      "execution_count": null,
      "outputs": []
    },
    {
      "cell_type": "code",
      "source": [
        "class Solution(object):\n",
        "    def isPalindrome(self, x):\n",
        "        k = x\n",
        "        mass = []\n",
        "        flag = True\n",
        "        if k < 0:\n",
        "          return False\n",
        "        else:\n",
        "          while x > 0:\n",
        "            a = x % 10\n",
        "            mass.append(a)\n",
        "\n",
        "            x = x // 10\n",
        "\n",
        "          li = int(''.join(map(str, mass)))\n",
        "          if li == k:\n",
        "            return True\n",
        "          else:\n",
        "            return False  \n",
        "  "
      ],
      "metadata": {
        "id": "4chb2cysFYIo"
      },
      "execution_count": null,
      "outputs": []
    },
    {
      "cell_type": "code",
      "source": [
        "obj = Solution()\n",
        "obj.isPalindrome(-121)"
      ],
      "metadata": {
        "id": "Tu3tTraiHO10"
      },
      "execution_count": null,
      "outputs": []
    },
    {
      "cell_type": "code",
      "source": [
        ""
      ],
      "metadata": {
        "id": "Dno0lDKtHlHY"
      },
      "execution_count": null,
      "outputs": []
    }
  ]
}