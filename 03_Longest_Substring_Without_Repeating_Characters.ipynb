{
  "nbformat": 4,
  "nbformat_minor": 0,
  "metadata": {
    "colab": {
      "name": "LeetCode 3.ipynb",
      "private_outputs": true,
      "provenance": [],
      "authorship_tag": "ABX9TyNMwPzATPP9QF1aNR384pNr",
      "include_colab_link": true
    },
    "kernelspec": {
      "name": "python3",
      "display_name": "Python 3"
    },
    "language_info": {
      "name": "python"
    }
  },
  "cells": [
    {
      "cell_type": "markdown",
      "metadata": {
        "id": "view-in-github",
        "colab_type": "text"
      },
      "source": [
        "<a href=\"https://colab.research.google.com/github/dkurbatovv/LeetCode/blob/main/LeetCode_3.ipynb\" target=\"_parent\"><img src=\"https://colab.research.google.com/assets/colab-badge.svg\" alt=\"Open In Colab\"/></a>"
      ]
    },
    {
      "cell_type": "code",
      "source": [
        "class Solution(object):\n",
        "   def lengthOfLongestSubstring(self, s):\n",
        "      i =0\n",
        "      j = 0\n",
        "      d={}\n",
        "      ans = 0\n",
        "      while j < len(s):\n",
        "         if s[j] not in d or i > d[s[j]]:\n",
        "            ans = max(ans, (j - i + 1))\n",
        "            d[s[j]] = j\n",
        "         else:\n",
        "            i = d[s[j]] + 1\n",
        "            ans = max(ans, (j - i + 1))\n",
        "            j = j -1\n",
        "         #print(ans)\n",
        "         j = j +1\n",
        "      return ans\n",
        "ob1 = Solution()\n",
        "print(ob1.lengthOfLongestSubstring(\"ABCABCBB\"))"
      ],
      "metadata": {
        "id": "UPmQvz1V4MNy"
      },
      "execution_count": null,
      "outputs": []
    },
    {
      "cell_type": "code",
      "source": [
        "a = 'ABCABCBB'\n"
      ],
      "metadata": {
        "id": "uL2jJngc4Mhp"
      },
      "execution_count": null,
      "outputs": []
    },
    {
      "cell_type": "code",
      "source": [
        ""
      ],
      "metadata": {
        "id": "u97EQvAEDFxt"
      },
      "execution_count": null,
      "outputs": []
    }
  ]
}
