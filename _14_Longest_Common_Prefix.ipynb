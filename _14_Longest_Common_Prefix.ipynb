{
  "nbformat": 4,
  "nbformat_minor": 0,
  "metadata": {
    "colab": {
      "name": "#14 Longest Common Prefix.ipynb",
      "private_outputs": true,
      "provenance": [],
      "authorship_tag": "ABX9TyPc5NFmTr+Y9QK4ZWnj0P4k",
      "include_colab_link": true
    },
    "kernelspec": {
      "name": "python3",
      "display_name": "Python 3"
    },
    "language_info": {
      "name": "python"
    }
  },
  "cells": [
    {
      "cell_type": "markdown",
      "metadata": {
        "id": "view-in-github",
        "colab_type": "text"
      },
      "source": [
        "<a href=\"https://colab.research.google.com/github/dkurbatovv/LeetCode/blob/main/_14_Longest_Common_Prefix.ipynb\" target=\"_parent\"><img src=\"https://colab.research.google.com/assets/colab-badge.svg\" alt=\"Open In Colab\"/></a>"
      ]
    },
    {
      "cell_type": "code",
      "execution_count": null,
      "metadata": {
        "id": "EUMCrCRLBcXf"
      },
      "outputs": [],
      "source": [
        "class Solution(object):\n",
        "   def longestCommonPrefix(self, strs):\n",
        "\n",
        "      current = strs[0]\n",
        "      for i in range(1,len(strs)):\n",
        "         temp = \"\"\n",
        "\n",
        "         if len(current) == 0:\n",
        "            break\n",
        "\n",
        "         for j in range(len(strs[i])):\n",
        "            if j<len(current) and current[j] == strs[i][j]:\n",
        "               temp+=current[j]\n",
        "            else:\n",
        "               break\n",
        "\n",
        "         current = temp\n",
        "\n",
        "         \n",
        "      return current\n",
        "\n",
        "input_list = [\"school\",\"schedule\",\"scotland\"]\n",
        "ob1 = Solution()\n",
        "print(ob1.longestCommonPrefix(input_list))      "
      ]
    },
    {
      "cell_type": "code",
      "source": [
        ""
      ],
      "metadata": {
        "id": "WVxCwM9zBept"
      },
      "execution_count": null,
      "outputs": []
    }
  ]
}