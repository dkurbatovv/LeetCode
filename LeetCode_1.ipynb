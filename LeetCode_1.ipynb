{
  "nbformat": 4,
  "nbformat_minor": 0,
  "metadata": {
    "colab": {
      "name": "LeetCode #1.ipynb",
      "private_outputs": true,
      "provenance": [],
      "authorship_tag": "ABX9TyMwoY9hWRkg1gLDD37VnhBc",
      "include_colab_link": true
    },
    "kernelspec": {
      "name": "python3",
      "display_name": "Python 3"
    },
    "language_info": {
      "name": "python"
    }
  },
  "cells": [
    {
      "cell_type": "markdown",
      "metadata": {
        "id": "view-in-github",
        "colab_type": "text"
      },
      "source": [
        "<a href=\"https://colab.research.google.com/github/dkurbatovv/LeetCode/blob/main/LeetCode_1.ipynb\" target=\"_parent\"><img src=\"https://colab.research.google.com/assets/colab-badge.svg\" alt=\"Open In Colab\"/></a>"
      ]
    },
    {
      "cell_type": "code",
      "execution_count": null,
      "metadata": {
        "id": "M0PHzhFJ_wTa"
      },
      "outputs": [],
      "source": [
        "n = int(input(\"Введите длину последовательности: \"))\n",
        "target = int(input(\"Введите сумму которую хотите получить: \"))\n",
        "\n",
        "list = []\n",
        "\n",
        "for i in range(0, n):\n",
        "  k = int(input())\n",
        "  list.append(k)\n",
        "\n",
        "new_mass = []\n",
        "for b in range(len(list)):\n",
        "  s = target - list[b]\n",
        "  if s == list[b+1]:\n",
        "    #print('[', b,  ',',  b+1, ']')    \n",
        "    new_mass = [b, b+1]\n",
        "    break\n",
        "print(new_mass)    \n",
        "#print(list)"
      ]
    },
    {
      "cell_type": "code",
      "source": [
        "class Solution:\n",
        "    def twoSum(self, nums, target):\n",
        "        n_dict = {}\n",
        "        \n",
        "        for i in range(len(nums)):\n",
        "            f_num = target - nums[i]\n",
        "            #print(n_dict.get(f_num))\n",
        "            if n_dict.get(f_num) != None:              \n",
        "                return [n_dict[f_num], i]\n",
        "            n_dict[nums[i]] = i\n",
        "        return []"
      ],
      "metadata": {
        "id": "xBnKti51AaDf"
      },
      "execution_count": null,
      "outputs": []
    },
    {
      "cell_type": "code",
      "source": [
        "a = Solution()\n",
        "a.twoSum([0,1,4,8], 5)"
      ],
      "metadata": {
        "id": "rDsMxRRKEv0T"
      },
      "execution_count": null,
      "outputs": []
    },
    {
      "cell_type": "code",
      "source": [
        ""
      ],
      "metadata": {
        "id": "G-Ii5uTBFDv8"
      },
      "execution_count": null,
      "outputs": []
    }
  ]
}