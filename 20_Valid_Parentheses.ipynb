{
  "nbformat": 4,
  "nbformat_minor": 0,
  "metadata": {
    "colab": {
      "name": "20_Valid_Parentheses.ipynb",
      "private_outputs": true,
      "provenance": [],
      "authorship_tag": "ABX9TyMOUaTxXlimGNvmVwEJ4Qs6",
      "include_colab_link": true
    },
    "kernelspec": {
      "name": "python3",
      "display_name": "Python 3"
    },
    "language_info": {
      "name": "python"
    }
  },
  "cells": [
    {
      "cell_type": "markdown",
      "metadata": {
        "id": "view-in-github",
        "colab_type": "text"
      },
      "source": [
        "<a href=\"https://colab.research.google.com/github/dkurbatovv/LeetCode/blob/main/20_Valid_Parentheses.ipynb\" target=\"_parent\"><img src=\"https://colab.research.google.com/assets/colab-badge.svg\" alt=\"Open In Colab\"/></a>"
      ]
    },
    {
      "cell_type": "code",
      "execution_count": null,
      "metadata": {
        "id": "FbVM31Lk6inX"
      },
      "outputs": [],
      "source": [
        "class Solution(object):\n",
        "    def isValid(self, s):\n",
        "        opening = '({['\n",
        "        closing = ')}]'\n",
        "        brackets = {')' : '(', '}' : '{',']' : '['}\n",
        "\n",
        "        mass = []\n",
        "\n",
        "        for char in s:\n",
        "          if char in opening:\n",
        "            mass.append(char)\n",
        "          elif char in closing:\n",
        "            if len(mass) == 0:\n",
        "              return False\n",
        "            if mass[-1]  == brackets[char]:\n",
        "              print(mass[-1])\n",
        "              mass.pop()\n",
        "            else:\n",
        "              return False\n",
        "\n",
        "        return len(mass) == 0      \n",
        "\n",
        "\n",
        "\n",
        "        \n",
        "\n",
        "obj = Solution()\n",
        "obj.isValid('(())))]))')        "
      ]
    },
    {
      "cell_type": "code",
      "source": [
        ""
      ],
      "metadata": {
        "id": "fpzznx1u9dWv"
      },
      "execution_count": null,
      "outputs": []
    }
  ]
}