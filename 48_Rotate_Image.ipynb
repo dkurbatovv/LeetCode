{
  "nbformat": 4,
  "nbformat_minor": 0,
  "metadata": {
    "colab": {
      "name": "48_Rotate_Image.ipynb",
      "provenance": [],
      "authorship_tag": "ABX9TyNtKTQgQwCmTtOjHngzjlSH",
      "include_colab_link": true
    },
    "kernelspec": {
      "name": "python3",
      "display_name": "Python 3"
    },
    "language_info": {
      "name": "python"
    }
  },
  "cells": [
    {
      "cell_type": "markdown",
      "metadata": {
        "id": "view-in-github",
        "colab_type": "text"
      },
      "source": [
        "<a href=\"https://colab.research.google.com/github/dkurbatovv/LeetCode/blob/main/48_Rotate_Image.ipynb\" target=\"_parent\"><img src=\"https://colab.research.google.com/assets/colab-badge.svg\" alt=\"Open In Colab\"/></a>"
      ]
    },
    {
      "cell_type": "code",
      "execution_count": 319,
      "metadata": {
        "id": "ihgnvkM0Luww",
        "colab": {
          "base_uri": "https://localhost:8080/"
        },
        "outputId": "38051fb3-ea89-4716-b404-e7ffb040dbc7"
      },
      "outputs": [
        {
          "output_type": "execute_result",
          "data": {
            "text/plain": [
              "[[15, 13, 2, 5], [14, 3, 4, 1], [12, 6, 8, 9]]"
            ]
          },
          "metadata": {},
          "execution_count": 319
        }
      ],
      "source": [
        "class Solution(object):\n",
        "    def rotate(self, matrix):\n",
        "        size = len(matrix)\n",
        "        number = size - 1\n",
        "        new_matrix = []      \n",
        "        s = 0\n",
        "        flag = True\n",
        "        while flag:\n",
        "          res = []\n",
        "          for i in reversed(matrix):           \n",
        "            #new_mass.append(i)\n",
        "            k = i\n",
        "            for j in range(s, len(k)-number):\n",
        "              res.append(k[j])\n",
        "   \n",
        "          new_matrix.append(res)\n",
        "         # print(new_matrix)      \n",
        "          if len(new_matrix) == 3:\n",
        "            flag = False\n",
        "          else:\n",
        "            number = number - 1\n",
        "            s = s + 1\n",
        "\n",
        "        return new_matrix\n",
        "\n",
        "obj = Solution()\n",
        "obj.rotate([[5,1,9,11],[2,4,8,10],[13,3,6,7],[15,14,12,16]])  "
      ]
    },
    {
      "cell_type": "code",
      "source": [
        "[[15,13,2,5],[14,3,4,1],[12,6,8,9],[16,7,10,11]]"
      ],
      "metadata": {
        "id": "caKJu3RIL2go",
        "colab": {
          "base_uri": "https://localhost:8080/"
        },
        "outputId": "123f5737-d26f-4c98-b6d3-a503c7e8a35d"
      },
      "execution_count": 304,
      "outputs": [
        {
          "output_type": "execute_result",
          "data": {
            "text/plain": [
              "[1, 2, 3]"
            ]
          },
          "metadata": {},
          "execution_count": 304
        }
      ]
    },
    {
      "cell_type": "code",
      "source": [
        ""
      ],
      "metadata": {
        "id": "jmnmtH--B_1D"
      },
      "execution_count": null,
      "outputs": []
    }
  ]
}