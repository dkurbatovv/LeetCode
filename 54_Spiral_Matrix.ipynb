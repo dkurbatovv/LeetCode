{
  "nbformat": 4,
  "nbformat_minor": 0,
  "metadata": {
    "colab": {
      "name": "54_Spiral_Matrix.ipynb",
      "provenance": [],
      "authorship_tag": "ABX9TyNYog/6OuZhnZCafCuDYw+A",
      "include_colab_link": true
    },
    "kernelspec": {
      "name": "python3",
      "display_name": "Python 3"
    },
    "language_info": {
      "name": "python"
    }
  },
  "cells": [
    {
      "cell_type": "markdown",
      "metadata": {
        "id": "view-in-github",
        "colab_type": "text"
      },
      "source": [
        "<a href=\"https://colab.research.google.com/github/dkurbatovv/LeetCode/blob/main/54_Spiral_Matrix.ipynb\" target=\"_parent\"><img src=\"https://colab.research.google.com/assets/colab-badge.svg\" alt=\"Open In Colab\"/></a>"
      ]
    },
    {
      "cell_type": "code",
      "execution_count": 56,
      "metadata": {
        "colab": {
          "base_uri": "https://localhost:8080/"
        },
        "id": "g3tEksJn8tPu",
        "outputId": "d8fed3c7-fef4-4e52-fcce-e201c13db410"
      },
      "outputs": [
        {
          "output_type": "execute_result",
          "data": {
            "text/plain": [
              "[1, 2, 3, 4, 8, 12, 11, 10, 9, 5, 6, 7]"
            ]
          },
          "metadata": {},
          "execution_count": 56
        }
      ],
      "source": [
        "class Solution(object):\n",
        "    def spiralOrder(self, matrix):\n",
        "        if not matrix or matrix == []:\n",
        "          return matrix\n",
        "        else:\n",
        "          m = len(matrix)\n",
        "          n = len(matrix[0])\n",
        "\n",
        "          k,l = 0,0  \n",
        "\n",
        "          spiral = [] #сюда будем записывать массив, что выводить\n",
        "          while k < m and l < n:\n",
        "            for i in range(l,n):\n",
        "              spiral.append(matrix[k][i])\n",
        "            k += 1\n",
        "            for i in range(k, m):\n",
        "                spiral.append(matrix[i][n-1])\n",
        "            n -= 1    \n",
        "            if k < m:\n",
        "                for i in range(n-1, l-1, -1):\n",
        "                    spiral.append(matrix[m-1][i])\n",
        "                m -= 1\n",
        "\n",
        "            if l < n:\n",
        "                for i in range(m-1, k-1, -1):\n",
        "                    spiral.append(matrix[i][l])\n",
        "\n",
        "                l += 1\n",
        "          return spiral          \n",
        "\n",
        "\n",
        "obj = Solution()\n",
        "obj.spiralOrder([[1,2,3,4],[5,6,7,8],[9,10,11,12]])                "
      ]
    },
    {
      "cell_type": "code",
      "source": [
        ""
      ],
      "metadata": {
        "id": "mOUg61NM8vz-"
      },
      "execution_count": 31,
      "outputs": []
    }
  ]
}