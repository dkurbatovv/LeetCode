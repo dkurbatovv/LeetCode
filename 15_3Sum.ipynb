{
  "nbformat": 4,
  "nbformat_minor": 0,
  "metadata": {
    "colab": {
      "name": "15 3Sum.ipynb",
      "provenance": [],
      "authorship_tag": "ABX9TyO8Yl7lFbu8merfjV0O/X8K",
      "include_colab_link": true
    },
    "kernelspec": {
      "name": "python3",
      "display_name": "Python 3"
    },
    "language_info": {
      "name": "python"
    }
  },
  "cells": [
    {
      "cell_type": "markdown",
      "metadata": {
        "id": "view-in-github",
        "colab_type": "text"
      },
      "source": [
        "<a href=\"https://colab.research.google.com/github/dkurbatovv/LeetCode/blob/main/15_3Sum.ipynb\" target=\"_parent\"><img src=\"https://colab.research.google.com/assets/colab-badge.svg\" alt=\"Open In Colab\"/></a>"
      ]
    },
    {
      "cell_type": "code",
      "execution_count": 40,
      "metadata": {
        "colab": {
          "base_uri": "https://localhost:8080/"
        },
        "id": "z6hYGZ06XzNz",
        "outputId": "dc4fa4c8-82db-4821-a1a2-f797b6ad5f07"
      },
      "outputs": [
        {
          "output_type": "execute_result",
          "data": {
            "text/plain": [
              "[[-1, -1, 2], [-1, 0, 1]]"
            ]
          },
          "metadata": {},
          "execution_count": 40
        }
      ],
      "source": [
        "class Solution(object):  \n",
        "  def threeSum(self, nums):\n",
        "      \"\"\"\n",
        "      :type nums: List[int]\n",
        "      :rtype: List[List[int]]\n",
        "      \"\"\"\n",
        "      result = []  \n",
        "      nums.sort()\n",
        "  \n",
        "      for i in range(len(nums)):\n",
        "          if i > 0 and nums[i] == nums[i - 1]:\n",
        "              continue\n",
        "  \n",
        "          j = i + 1\n",
        "          k = len(nums) - 1\n",
        "  \n",
        "          required_sum  = 0 - nums[i];\n",
        "  \n",
        "          while j < k:\n",
        "              current_sum = nums[j] + nums[k]\n",
        "  \n",
        "              if current_sum < required_sum:\n",
        "                  j += 1\n",
        "              elif current_sum > required_sum:\n",
        "                  k -= 1\n",
        "              else:\n",
        "                  result.append([nums[i], nums[j], nums[k]])\n",
        "                  j += 1\n",
        "                  while j < k and nums[j] == nums[j - 1]:\n",
        "                      j += 1\n",
        "  \n",
        "      return result \n",
        "obj = Solution()\n",
        "obj.threeSum([-1,0,1,2,-1,-4])        "
      ]
    },
    {
      "cell_type": "code",
      "source": [
        "class Solution(object):  \n",
        "  def threeSum(self, nums):\n",
        "      \"\"\"\n",
        "      :type nums: List[int]\n",
        "      :rtype: List[List[int]]\n",
        "      \"\"\"\n",
        "      result = []\n",
        "  \n",
        "      nums.sort()\n",
        "  \n",
        "      for first_idx in range(len(nums)):\n",
        "        print(first_idx)  \n",
        "\n",
        "\n",
        "obj = Solution()\n",
        "obj.threeSum([-1,0,1,2,-1,-4])        "
      ],
      "metadata": {
        "colab": {
          "base_uri": "https://localhost:8080/"
        },
        "id": "kK-6i-M0cMwn",
        "outputId": "1342549e-bb7f-4fb1-8cb5-1b8eb4e2175e"
      },
      "execution_count": 39,
      "outputs": [
        {
          "output_type": "stream",
          "name": "stdout",
          "text": [
            "0\n",
            "1\n",
            "2\n",
            "3\n",
            "4\n",
            "5\n"
          ]
        }
      ]
    },
    {
      "cell_type": "code",
      "source": [
        ""
      ],
      "metadata": {
        "id": "MnxkUs2OjmDT"
      },
      "execution_count": null,
      "outputs": []
    }
  ]
}