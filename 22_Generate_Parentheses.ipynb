{
  "nbformat": 4,
  "nbformat_minor": 0,
  "metadata": {
    "colab": {
      "name": "22 Generate Parentheses.ipynb",
      "provenance": [],
      "collapsed_sections": [],
      "authorship_tag": "ABX9TyMe8l0HnXUm+k+FqatPojWk",
      "include_colab_link": true
    },
    "kernelspec": {
      "name": "python3",
      "display_name": "Python 3"
    },
    "language_info": {
      "name": "python"
    }
  },
  "cells": [
    {
      "cell_type": "markdown",
      "metadata": {
        "id": "view-in-github",
        "colab_type": "text"
      },
      "source": [
        "<a href=\"https://colab.research.google.com/github/dkurbatovv/LeetCode/blob/main/22_Generate_Parentheses.ipynb\" target=\"_parent\"><img src=\"https://colab.research.google.com/assets/colab-badge.svg\" alt=\"Open In Colab\"/></a>"
      ]
    },
    {
      "cell_type": "code",
      "execution_count": 4,
      "metadata": {
        "colab": {
          "base_uri": "https://localhost:8080/"
        },
        "id": "z6hYGZ06XzNz",
        "outputId": "dd7749d6-c72b-4f01-eb11-bf70917e5f04"
      },
      "outputs": [
        {
          "output_type": "execute_result",
          "data": {
            "text/plain": [
              "['(())', '()()']"
            ]
          },
          "metadata": {},
          "execution_count": 4
        }
      ],
      "source": [
        "class Solution(object):\n",
        "    def generateParenthesis(self, n):\n",
        "        \"\"\"\n",
        "        :type n: int\n",
        "        :rtype: List[str]\n",
        "        \"\"\"\n",
        "        sList = list([])\n",
        "        self.backtrace(sList, \"\", 0, 0, n)\n",
        "        return sList\n",
        "    \n",
        "    \n",
        "    def backtrace(self, sList, s, start, end, m):\n",
        "        if(len(s) == m * 2):\n",
        "            sList.append(s)\n",
        "            return\n",
        "        if start < m: # open parenthesis num is less than max\n",
        "            self.backtrace(sList, s+\"(\", start+1, end, m)\n",
        "        if end < start:# close parenthesis num is less than open num\n",
        "            self.backtrace(sList, s+\")\", start, end+1, m)\n",
        "\n",
        "\n",
        "\n",
        "obj = Solution()\n",
        "obj.generateParenthesis(2)                "
      ]
    },
    {
      "cell_type": "code",
      "source": [
        ""
      ],
      "metadata": {
        "id": "MnxkUs2OjmDT"
      },
      "execution_count": null,
      "outputs": []
    }
  ]
}