{
  "nbformat": 4,
  "nbformat_minor": 0,
  "metadata": {
    "colab": {
      "name": "29 Divide Two Integers.ipynb",
      "provenance": [],
      "collapsed_sections": [],
      "authorship_tag": "ABX9TyP39NKDH/ig/lv1ZwRIKkKL",
      "include_colab_link": true
    },
    "kernelspec": {
      "name": "python3",
      "display_name": "Python 3"
    },
    "language_info": {
      "name": "python"
    }
  },
  "cells": [
    {
      "cell_type": "markdown",
      "metadata": {
        "id": "view-in-github",
        "colab_type": "text"
      },
      "source": [
        "<a href=\"https://colab.research.google.com/github/dkurbatovv/LeetCode/blob/main/29_Divide_Two_Integers.ipynb\" target=\"_parent\"><img src=\"https://colab.research.google.com/assets/colab-badge.svg\" alt=\"Open In Colab\"/></a>"
      ]
    },
    {
      "cell_type": "code",
      "execution_count": 60,
      "metadata": {
        "colab": {
          "base_uri": "https://localhost:8080/"
        },
        "id": "z6hYGZ06XzNz",
        "outputId": "7bfaab63-2390-44a6-e136-b847b4367795"
      },
      "outputs": [
        {
          "output_type": "execute_result",
          "data": {
            "text/plain": [
              "-2"
            ]
          },
          "metadata": {},
          "execution_count": 60
        }
      ],
      "source": [
        "class Solution(object):\n",
        "    def divide(self, dividend, divisor):\n",
        "      count = 0\n",
        "      k = 0    \n",
        "      if (dividend > 0) and (divisor > 0):\n",
        "        while count < dividend:\n",
        "          count = count + divisor\n",
        "          k = k + 1\n",
        "        return k-1      \n",
        "      elif (dividend > 0) and (divisor < 0):\n",
        "        while count < dividend:\n",
        "          count = count + divisor*(-1)\n",
        "          k = k + 1\n",
        "        return (k-1)*(-1)  \n",
        "      else:\n",
        "        dividend = dividend * (-1)\n",
        "        while count < dividend:\n",
        "          count = count + divisor\n",
        "          k = k + 1\n",
        "        return (k-1)*(-1)        \n",
        "obj = Solution()\n",
        "obj.divide(-15, 7)"
      ]
    },
    {
      "cell_type": "code",
      "source": [
        "10 // 3"
      ],
      "metadata": {
        "id": "MnxkUs2OjmDT",
        "outputId": "b2daee6a-8f77-4f3e-f0f9-065275df8a14",
        "colab": {
          "base_uri": "https://localhost:8080/"
        }
      },
      "execution_count": null,
      "outputs": [
        {
          "output_type": "execute_result",
          "data": {
            "text/plain": [
              "3"
            ]
          },
          "metadata": {},
          "execution_count": 8
        }
      ]
    },
    {
      "cell_type": "code",
      "source": [
        ""
      ],
      "metadata": {
        "id": "Y5ISgDvjfb2q"
      },
      "execution_count": null,
      "outputs": []
    }
  ]
}