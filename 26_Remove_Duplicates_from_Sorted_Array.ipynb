{
  "nbformat": 4,
  "nbformat_minor": 0,
  "metadata": {
    "colab": {
      "name": "26_Remove_Duplicates_from_Sorted_Array.ipynb",
      "private_outputs": true,
      "provenance": [],
      "authorship_tag": "ABX9TyNmfTgrbvnhuQHvWkG9deYh",
      "include_colab_link": true
    },
    "kernelspec": {
      "name": "python3",
      "display_name": "Python 3"
    },
    "language_info": {
      "name": "python"
    }
  },
  "cells": [
    {
      "cell_type": "markdown",
      "metadata": {
        "id": "view-in-github",
        "colab_type": "text"
      },
      "source": [
        "<a href=\"https://colab.research.google.com/github/dkurbatovv/LeetCode/blob/main/26_Remove_Duplicates_from_Sorted_Array.ipynb\" target=\"_parent\"><img src=\"https://colab.research.google.com/assets/colab-badge.svg\" alt=\"Open In Colab\"/></a>"
      ]
    },
    {
      "cell_type": "code",
      "execution_count": null,
      "metadata": {
        "id": "mPAzMq6Vl5xA"
      },
      "outputs": [],
      "source": [
        "class Solution(object):\n",
        "    def removeDuplicates(self, nums):\n",
        "        #lens = len(nums)\n",
        "        new_mass = []\n",
        "        mass = []\n",
        "        for number in nums:\n",
        "          if number not in mass:\n",
        "            mass.append(number)\n",
        "\n",
        "        for i in range(0, len(nums)):\n",
        "          if i < len(mass):\n",
        "            new_mass.append(mass[i])\n",
        "          else:\n",
        "            new_mass.append(\"_\")\n",
        "\n",
        "        return new_mass\n",
        "             \n",
        "                \n",
        "          \n",
        "\n",
        "obj = Solution()\n",
        "obj.removeDuplicates([1,1,2,3,4,5,5,6])"
      ]
    },
    {
      "cell_type": "code",
      "source": [
        ""
      ],
      "metadata": {
        "id": "rLlp_L8imwgs"
      },
      "execution_count": null,
      "outputs": []
    }
  ]
}