{
  "nbformat": 4,
  "nbformat_minor": 0,
  "metadata": {
    "colab": {
      "name": "LeetCode 13 Roman to Integeripynb",
      "private_outputs": true,
      "provenance": [],
      "authorship_tag": "ABX9TyPZBpjz3eAXi3KNheoeXx5Z",
      "include_colab_link": true
    },
    "kernelspec": {
      "name": "python3",
      "display_name": "Python 3"
    },
    "language_info": {
      "name": "python"
    }
  },
  "cells": [
    {
      "cell_type": "markdown",
      "metadata": {
        "id": "view-in-github",
        "colab_type": "text"
      },
      "source": [
        "<a href=\"https://colab.research.google.com/github/dkurbatovv/LeetCode/blob/main/LeetCode_13_Roman_to_Integeripynb.ipynb\" target=\"_parent\"><img src=\"https://colab.research.google.com/assets/colab-badge.svg\" alt=\"Open In Colab\"/></a>"
      ]
    },
    {
      "cell_type": "code",
      "source": [
        "roman = {'I':1,'V':5,'X':10,'L':50,'C':100,'D':500,'M':1000}\n",
        "\n",
        "class Solution:\n",
        "    def romanToInt(self, S: str) -> int:\n",
        "        ans = 0\n",
        "        #print(len(S))\n",
        "        for i in range(len(S)-1,-1,-1):\n",
        "            num = roman[S[i]]\n",
        "            print(num)\n",
        "            if 4 * num < ans: \n",
        "              ans -= num\n",
        "            else: \n",
        "              ans += num\n",
        "        return ans \n",
        "\n",
        "obj = Solution() \n",
        "obj.romanToInt(\"MCMXCIV\")       "
      ],
      "metadata": {
        "id": "q5a1uCt4e45L"
      },
      "execution_count": null,
      "outputs": []
    },
    {
      "cell_type": "code",
      "source": [
        ""
      ],
      "metadata": {
        "id": "rdNs13e9BNZr"
      },
      "execution_count": null,
      "outputs": []
    },
    {
      "cell_type": "code",
      "source": [
        ""
      ],
      "metadata": {
        "id": "uUldbGTEBQQP"
      },
      "execution_count": null,
      "outputs": []
    },
    {
      "cell_type": "code",
      "source": [
        ""
      ],
      "metadata": {
        "id": "hcebNdAaBSa6"
      },
      "execution_count": null,
      "outputs": []
    }
  ]
}